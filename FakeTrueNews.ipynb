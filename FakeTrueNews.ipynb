{
  "nbformat": 4,
  "nbformat_minor": 0,
  "metadata": {
    "colab": {
      "name": "FakeTrueNews.ipynb",
      "provenance": [],
      "collapsed_sections": [],
      "authorship_tag": "ABX9TyPOMYNAt9CjBxzDfsWwnScD"
    },
    "kernelspec": {
      "name": "python3",
      "display_name": "Python 3"
    },
    "language_info": {
      "name": "python"
    }
  },
  "cells": [
    {
      "cell_type": "markdown",
      "metadata": {
        "id": "sULsV1R3LDWw"
      },
      "source": [
        "- Dataset: https://www.kaggle.com/clmentbisaillon/fake-and-real-news-dataset\n"
      ]
    },
    {
      "cell_type": "code",
      "metadata": {
        "colab": {
          "base_uri": "https://localhost:8080/"
        },
        "id": "L6zl1WmX90RS",
        "outputId": "82a01596-552e-45d1-9526-11a41be34e13"
      },
      "source": [
        "# Get access to the folder with file\n",
        "from google.colab import drive\n",
        "drive.mount('/content/gdrive')"
      ],
      "execution_count": null,
      "outputs": [
        {
          "output_type": "stream",
          "name": "stdout",
          "text": [
            "Mounted at /content/gdrive\n"
          ]
        }
      ]
    },
    {
      "cell_type": "code",
      "metadata": {
        "id": "VVJRUbJc-QnT"
      },
      "source": [
        "# Import libraries for dataset import and its processing\n",
        "import pandas as pd\n",
        "import nltk\n",
        "import re\n",
        "\n",
        "# Set the maximum width of columns in displaying data \n",
        "pd.set_option('display.max_colwidth', 999)"
      ],
      "execution_count": null,
      "outputs": []
    },
    {
      "cell_type": "code",
      "metadata": {
        "id": "_MmKAI7r-bWR"
      },
      "source": [
        "# Read first dataset with fake news\n",
        "df_fake = pd.read_csv('Fake.csv')\n",
        "\n",
        "# Read second dataset with true news\n",
        "df_true = pd.read_csv('True.csv')"
      ],
      "execution_count": null,
      "outputs": []
    },
    {
      "cell_type": "code",
      "metadata": {
        "colab": {
          "base_uri": "https://localhost:8080/",
          "height": 727
        },
        "id": "DDI7Oa3A-xPG",
        "outputId": "11202554-f7e7-40e0-f999-d270fb93890c"
      },
      "source": [
        "# Add new column 'label' and fill it with '1' with fake news\n",
        "df_fake['label'] = 1\n",
        "\n",
        "# Get rid of columns 'subjectt and 'date' as they are not needed for the model training\n",
        "df_fake.drop(['subject','date'], axis=1, inplace=True)\n",
        "\n",
        "# preview first five entries\n",
        "df_fake[:5]"
      ],
      "execution_count": null,
      "outputs": [
        {
          "output_type": "execute_result",
          "data": {
            "text/html": [
              "<div>\n",
              "<style scoped>\n",
              "    .dataframe tbody tr th:only-of-type {\n",
              "        vertical-align: middle;\n",
              "    }\n",
              "\n",
              "    .dataframe tbody tr th {\n",
              "        vertical-align: top;\n",
              "    }\n",
              "\n",
              "    .dataframe thead th {\n",
              "        text-align: right;\n",
              "    }\n",
              "</style>\n",
              "<table border=\"1\" class=\"dataframe\">\n",
              "  <thead>\n",
              "    <tr style=\"text-align: right;\">\n",
              "      <th></th>\n",
              "      <th>title</th>\n",
              "      <th>text</th>\n",
              "      <th>label</th>\n",
              "    </tr>\n",
              "  </thead>\n",
              "  <tbody>\n",
              "    <tr>\n",
              "      <th>0</th>\n",
              "      <td>Donald Trump Sends Out Embarrassing New Year’s Eve Message; This is Disturbing</td>\n",
              "      <td>Donald Trump just couldn t wish all Americans a Happy New Year and leave it at that. Instead, he had to give a shout out to his enemies, haters and  the very dishonest fake news media.  The former reality show star had just one job to do and he couldn t do it. As our Country rapidly grows stronger and smarter, I want to wish all of my friends, supporters, enemies, haters, and even the very dishonest Fake News Media, a Happy and Healthy New Year,  President Angry Pants tweeted.  2018 will be a great year for America! As our Country rapidly grows stronger and smarter, I want to wish all of my friends, supporters, enemies, haters, and even the very dishonest Fake News Media, a Happy and Healthy New Year. 2018 will be a great year for America!  Donald J. Trump (@realDonaldTrump) December 31, 2017Trump s tweet went down about as welll as you d expect.What kind of president sends a New Year s greeting like this despicable, petty, infantile gibberish? Only Trump! His lack of decency won ...</td>\n",
              "      <td>1</td>\n",
              "    </tr>\n",
              "    <tr>\n",
              "      <th>1</th>\n",
              "      <td>Drunk Bragging Trump Staffer Started Russian Collusion Investigation</td>\n",
              "      <td>House Intelligence Committee Chairman Devin Nunes is going to have a bad day. He s been under the assumption, like many of us, that the Christopher Steele-dossier was what prompted the Russia investigation so he s been lashing out at the Department of Justice and the FBI in order to protect Trump. As it happens, the dossier is not what started the investigation, according to documents obtained by the New York Times.Former Trump campaign adviser George Papadopoulos was drunk in a wine bar when he revealed knowledge of Russian opposition research on Hillary Clinton.On top of that, Papadopoulos wasn t just a covfefe boy for Trump, as his administration has alleged. He had a much larger role, but none so damning as being a drunken fool in a wine bar. Coffee boys  don t help to arrange a New York meeting between Trump and President Abdel Fattah el-Sisi of Egypt two months before the election. It was known before that the former aide set up meetings with world leaders for Trump, but tea...</td>\n",
              "      <td>1</td>\n",
              "    </tr>\n",
              "    <tr>\n",
              "      <th>2</th>\n",
              "      <td>Sheriff David Clarke Becomes An Internet Joke For Threatening To Poke People ‘In The Eye’</td>\n",
              "      <td>On Friday, it was revealed that former Milwaukee Sheriff David Clarke, who was being considered for Homeland Security Secretary in Donald Trump s administration, has an email scandal of his own.In January, there was a brief run-in on a plane between Clarke and fellow passenger Dan Black, who he later had detained by the police for no reason whatsoever, except that maybe his feelings were hurt. Clarke messaged the police to stop Black after he deplaned, and now, a search warrant has been executed by the FBI to see the exchanges.Clarke is calling it fake news even though copies of the search warrant are on the Internet. I am UNINTIMIDATED by lib media attempts to smear and discredit me with their FAKE NEWS reports designed to silence me,  the former sheriff tweeted.  I will continue to poke them in the eye with a sharp stick and bitch slap these scum bags til they get it. I have been attacked by better people than them #MAGA I am UNINTIMIDATED by lib media attempts to smear and disc...</td>\n",
              "      <td>1</td>\n",
              "    </tr>\n",
              "    <tr>\n",
              "      <th>3</th>\n",
              "      <td>Trump Is So Obsessed He Even Has Obama’s Name Coded Into His Website (IMAGES)</td>\n",
              "      <td>On Christmas day, Donald Trump announced that he would  be back to work  the following day, but he is golfing for the fourth day in a row. The former reality show star blasted former President Barack Obama for playing golf and now Trump is on track to outpace the number of golf games his predecessor played.Updated my tracker of Trump s appearances at Trump properties.71 rounds of golf including today s. At this pace, he ll pass Obama s first-term total by July 24 next year. https://t.co/Fg7VacxRtJ pic.twitter.com/5gEMcjQTbH  Philip Bump (@pbump) December 29, 2017 That makes what a Washington Post reporter discovered on Trump s website really weird, but everything about this administration is bizarre AF. The coding contained a reference to Obama and golf:  Unlike Obama, we are working to fix the problem   and not on the golf course.  However, the coding wasn t done correctly.The website of Donald Trump, who has spent several days in a row at the golf course, is coded to serve up th...</td>\n",
              "      <td>1</td>\n",
              "    </tr>\n",
              "    <tr>\n",
              "      <th>4</th>\n",
              "      <td>Pope Francis Just Called Out Donald Trump During His Christmas Speech</td>\n",
              "      <td>Pope Francis used his annual Christmas Day message to rebuke Donald Trump without even mentioning his name. The Pope delivered his message just days after members of the United Nations condemned Trump s move to recognize Jerusalem as the capital of Israel. The Pontiff prayed on Monday for the  peaceful coexistence of two states within mutually agreed and internationally recognized borders. We see Jesus in the children of the Middle East who continue to suffer because of growing tensions between Israelis and Palestinians,  Francis said.  On this festive day, let us ask the Lord for peace for Jerusalem and for all the Holy Land. Let us pray that the will to resume dialogue may prevail between the parties and that a negotiated solution can finally be reached. The Pope went on to plead for acceptance of refugees who have been forced from their homes, and that is an issue Trump continues to fight against. Francis used Jesus for which there was  no place in the inn  as an analogy. Today...</td>\n",
              "      <td>1</td>\n",
              "    </tr>\n",
              "  </tbody>\n",
              "</table>\n",
              "</div>"
            ],
            "text/plain": [
              "                                                                                        title  ... label\n",
              "0              Donald Trump Sends Out Embarrassing New Year’s Eve Message; This is Disturbing  ...     1\n",
              "1                        Drunk Bragging Trump Staffer Started Russian Collusion Investigation  ...     1\n",
              "2   Sheriff David Clarke Becomes An Internet Joke For Threatening To Poke People ‘In The Eye’  ...     1\n",
              "3               Trump Is So Obsessed He Even Has Obama’s Name Coded Into His Website (IMAGES)  ...     1\n",
              "4                       Pope Francis Just Called Out Donald Trump During His Christmas Speech  ...     1\n",
              "\n",
              "[5 rows x 3 columns]"
            ]
          },
          "metadata": {},
          "execution_count": 4
        }
      ]
    },
    {
      "cell_type": "code",
      "metadata": {
        "colab": {
          "base_uri": "https://localhost:8080/",
          "height": 727
        },
        "id": "nofTjL1W-2zb",
        "outputId": "2d33f588-39d4-43c4-dd48-02dcf6a43a81"
      },
      "source": [
        "# Add new column 'label' and fill it with '0' with true news\n",
        "df_true['label'] = 0\n",
        "\n",
        "# Get rid of columns 'subjectt and 'date' as they are not needed for the model training\n",
        "df_true.drop(['subject','date'], axis=1, inplace=True)\n",
        "\n",
        "# preview first five entries\n",
        "df_true[:5]"
      ],
      "execution_count": null,
      "outputs": [
        {
          "output_type": "execute_result",
          "data": {
            "text/html": [
              "<div>\n",
              "<style scoped>\n",
              "    .dataframe tbody tr th:only-of-type {\n",
              "        vertical-align: middle;\n",
              "    }\n",
              "\n",
              "    .dataframe tbody tr th {\n",
              "        vertical-align: top;\n",
              "    }\n",
              "\n",
              "    .dataframe thead th {\n",
              "        text-align: right;\n",
              "    }\n",
              "</style>\n",
              "<table border=\"1\" class=\"dataframe\">\n",
              "  <thead>\n",
              "    <tr style=\"text-align: right;\">\n",
              "      <th></th>\n",
              "      <th>title</th>\n",
              "      <th>text</th>\n",
              "      <th>label</th>\n",
              "    </tr>\n",
              "  </thead>\n",
              "  <tbody>\n",
              "    <tr>\n",
              "      <th>0</th>\n",
              "      <td>As U.S. budget fight looms, Republicans flip their fiscal script</td>\n",
              "      <td>WASHINGTON (Reuters) - The head of a conservative Republican faction in the U.S. Congress, who voted this month for a huge expansion of the national debt to pay for tax cuts, called himself a “fiscal conservative” on Sunday and urged budget restraint in 2018. In keeping with a sharp pivot under way among Republicans, U.S. Representative Mark Meadows, speaking on CBS’ “Face the Nation,” drew a hard line on federal spending, which lawmakers are bracing to do battle over in January. When they return from the holidays on Wednesday, lawmakers will begin trying to pass a federal budget in a fight likely to be linked to other issues, such as immigration policy, even as the November congressional election campaigns approach in which Republicans will seek to keep control of Congress. President Donald Trump and his Republicans want a big budget increase in military spending, while Democrats also want proportional increases for non-defense “discretionary” spending on programs that support ed...</td>\n",
              "      <td>0</td>\n",
              "    </tr>\n",
              "    <tr>\n",
              "      <th>1</th>\n",
              "      <td>U.S. military to accept transgender recruits on Monday: Pentagon</td>\n",
              "      <td>WASHINGTON (Reuters) - Transgender people will be allowed for the first time to enlist in the U.S. military starting on Monday as ordered by federal courts, the Pentagon said on Friday, after President Donald Trump’s administration decided not to appeal rulings that blocked his transgender ban. Two federal appeals courts, one in Washington and one in Virginia, last week rejected the administration’s request to put on hold orders by lower court judges requiring the military to begin accepting transgender recruits on Jan. 1. A Justice Department official said the administration will not challenge those rulings. “The Department of Defense has announced that it will be releasing an independent study of these issues in the coming weeks. So rather than litigate this interim appeal before that occurs, the administration has decided to wait for DOD’s study and will continue to defend the president’s lawful authority in District Court in the meantime,” the official said, speaking on condit...</td>\n",
              "      <td>0</td>\n",
              "    </tr>\n",
              "    <tr>\n",
              "      <th>2</th>\n",
              "      <td>Senior U.S. Republican senator: 'Let Mr. Mueller do his job'</td>\n",
              "      <td>WASHINGTON (Reuters) - The special counsel investigation of links between Russia and President Trump’s 2016 election campaign should continue without interference in 2018, despite calls from some Trump administration allies and Republican lawmakers to shut it down, a prominent Republican senator said on Sunday. Lindsey Graham, who serves on the Senate armed forces and judiciary committees, said Department of Justice Special Counsel Robert Mueller needs to carry on with his Russia investigation without political interference. “This investigation will go forward. It will be an investigation conducted without political influence,” Graham said on CBS’s Face the Nation news program. “And we all need to let Mr. Mueller do his job. I think he’s the right guy at the right time.”  The question of how Russia may have interfered in the election, and how Trump’s campaign may have had links with or co-ordinated any such effort, has loomed over the White House since Trump took office in January...</td>\n",
              "      <td>0</td>\n",
              "    </tr>\n",
              "    <tr>\n",
              "      <th>3</th>\n",
              "      <td>FBI Russia probe helped by Australian diplomat tip-off: NYT</td>\n",
              "      <td>WASHINGTON (Reuters) - Trump campaign adviser George Papadopoulos told an Australian diplomat in May 2016 that Russia had political dirt on Democratic presidential candidate Hillary Clinton, the New York Times reported on Saturday. The conversation between Papadopoulos and the diplomat, Alexander Downer, in London was a driving factor behind the FBI’s decision to open a counter-intelligence investigation of Moscow’s contacts with the Trump campaign, the Times reported. Two months after the meeting, Australian officials passed the information that came from Papadopoulos to their American counterparts when leaked Democratic emails began appearing online, according to the newspaper, which cited four current and former U.S. and foreign officials. Besides the information from the Australians, the probe by the Federal Bureau of Investigation was also propelled by intelligence from other friendly governments, including the British and Dutch, the Times said. Papadopoulos, a Chicago-based ...</td>\n",
              "      <td>0</td>\n",
              "    </tr>\n",
              "    <tr>\n",
              "      <th>4</th>\n",
              "      <td>Trump wants Postal Service to charge 'much more' for Amazon shipments</td>\n",
              "      <td>SEATTLE/WASHINGTON (Reuters) - President Donald Trump called on the U.S. Postal Service on Friday to charge “much more” to ship packages for Amazon (AMZN.O), picking another fight with an online retail giant he has criticized in the past.     “Why is the United States Post Office, which is losing many billions of dollars a year, while charging Amazon and others so little to deliver their packages, making Amazon richer and the Post Office dumber and poorer? Should be charging MUCH MORE!” Trump wrote on Twitter.  The president’s tweet drew fresh attention to the fragile finances of the Postal Service at a time when tens of millions of parcels have just been shipped all over the country for the holiday season.  The U.S. Postal Service, which runs at a big loss, is an independent agency within the federal government and does not receive tax dollars for operating expenses, according to its website.  Package delivery has become an increasingly important part of its business as the Inter...</td>\n",
              "      <td>0</td>\n",
              "    </tr>\n",
              "  </tbody>\n",
              "</table>\n",
              "</div>"
            ],
            "text/plain": [
              "                                                                   title  ... label\n",
              "0       As U.S. budget fight looms, Republicans flip their fiscal script  ...     0\n",
              "1       U.S. military to accept transgender recruits on Monday: Pentagon  ...     0\n",
              "2           Senior U.S. Republican senator: 'Let Mr. Mueller do his job'  ...     0\n",
              "3            FBI Russia probe helped by Australian diplomat tip-off: NYT  ...     0\n",
              "4  Trump wants Postal Service to charge 'much more' for Amazon shipments  ...     0\n",
              "\n",
              "[5 rows x 3 columns]"
            ]
          },
          "metadata": {},
          "execution_count": 5
        }
      ]
    },
    {
      "cell_type": "code",
      "metadata": {
        "colab": {
          "base_uri": "https://localhost:8080/",
          "height": 1000
        },
        "id": "pD0c42nDM7pc",
        "outputId": "0ea34b11-6486-494e-e6df-a6287c1bd4fa"
      },
      "source": [
        "# Concatenate both datasets to get whole vocabulary\n",
        "df_all = pd.concat([df_fake,df_true])\n",
        "\n",
        "# Concatenate title and text together \n",
        "df_all['text'] = df_all['title'] + df_all['text']\n",
        "df_all.drop('title', axis=1, inplace=True)\n",
        "\n",
        "# Preview of new dataset\n",
        "df_all"
      ],
      "execution_count": null,
      "outputs": [
        {
          "output_type": "execute_result",
          "data": {
            "text/html": [
              "<div>\n",
              "<style scoped>\n",
              "    .dataframe tbody tr th:only-of-type {\n",
              "        vertical-align: middle;\n",
              "    }\n",
              "\n",
              "    .dataframe tbody tr th {\n",
              "        vertical-align: top;\n",
              "    }\n",
              "\n",
              "    .dataframe thead th {\n",
              "        text-align: right;\n",
              "    }\n",
              "</style>\n",
              "<table border=\"1\" class=\"dataframe\">\n",
              "  <thead>\n",
              "    <tr style=\"text-align: right;\">\n",
              "      <th></th>\n",
              "      <th>text</th>\n",
              "      <th>label</th>\n",
              "    </tr>\n",
              "  </thead>\n",
              "  <tbody>\n",
              "    <tr>\n",
              "      <th>0</th>\n",
              "      <td>Donald Trump Sends Out Embarrassing New Year’s Eve Message; This is DisturbingDonald Trump just couldn t wish all Americans a Happy New Year and leave it at that. Instead, he had to give a shout out to his enemies, haters and  the very dishonest fake news media.  The former reality show star had just one job to do and he couldn t do it. As our Country rapidly grows stronger and smarter, I want to wish all of my friends, supporters, enemies, haters, and even the very dishonest Fake News Media, a Happy and Healthy New Year,  President Angry Pants tweeted.  2018 will be a great year for America! As our Country rapidly grows stronger and smarter, I want to wish all of my friends, supporters, enemies, haters, and even the very dishonest Fake News Media, a Happy and Healthy New Year. 2018 will be a great year for America!  Donald J. Trump (@realDonaldTrump) December 31, 2017Trump s tweet went down about as welll as you d expect.What kind of president sends a New Year s greeting like th...</td>\n",
              "      <td>1</td>\n",
              "    </tr>\n",
              "    <tr>\n",
              "      <th>1</th>\n",
              "      <td>Drunk Bragging Trump Staffer Started Russian Collusion InvestigationHouse Intelligence Committee Chairman Devin Nunes is going to have a bad day. He s been under the assumption, like many of us, that the Christopher Steele-dossier was what prompted the Russia investigation so he s been lashing out at the Department of Justice and the FBI in order to protect Trump. As it happens, the dossier is not what started the investigation, according to documents obtained by the New York Times.Former Trump campaign adviser George Papadopoulos was drunk in a wine bar when he revealed knowledge of Russian opposition research on Hillary Clinton.On top of that, Papadopoulos wasn t just a covfefe boy for Trump, as his administration has alleged. He had a much larger role, but none so damning as being a drunken fool in a wine bar. Coffee boys  don t help to arrange a New York meeting between Trump and President Abdel Fattah el-Sisi of Egypt two months before the election. It was known before that ...</td>\n",
              "      <td>1</td>\n",
              "    </tr>\n",
              "    <tr>\n",
              "      <th>2</th>\n",
              "      <td>Sheriff David Clarke Becomes An Internet Joke For Threatening To Poke People ‘In The Eye’On Friday, it was revealed that former Milwaukee Sheriff David Clarke, who was being considered for Homeland Security Secretary in Donald Trump s administration, has an email scandal of his own.In January, there was a brief run-in on a plane between Clarke and fellow passenger Dan Black, who he later had detained by the police for no reason whatsoever, except that maybe his feelings were hurt. Clarke messaged the police to stop Black after he deplaned, and now, a search warrant has been executed by the FBI to see the exchanges.Clarke is calling it fake news even though copies of the search warrant are on the Internet. I am UNINTIMIDATED by lib media attempts to smear and discredit me with their FAKE NEWS reports designed to silence me,  the former sheriff tweeted.  I will continue to poke them in the eye with a sharp stick and bitch slap these scum bags til they get it. I have been attacked b...</td>\n",
              "      <td>1</td>\n",
              "    </tr>\n",
              "    <tr>\n",
              "      <th>3</th>\n",
              "      <td>Trump Is So Obsessed He Even Has Obama’s Name Coded Into His Website (IMAGES)On Christmas day, Donald Trump announced that he would  be back to work  the following day, but he is golfing for the fourth day in a row. The former reality show star blasted former President Barack Obama for playing golf and now Trump is on track to outpace the number of golf games his predecessor played.Updated my tracker of Trump s appearances at Trump properties.71 rounds of golf including today s. At this pace, he ll pass Obama s first-term total by July 24 next year. https://t.co/Fg7VacxRtJ pic.twitter.com/5gEMcjQTbH  Philip Bump (@pbump) December 29, 2017 That makes what a Washington Post reporter discovered on Trump s website really weird, but everything about this administration is bizarre AF. The coding contained a reference to Obama and golf:  Unlike Obama, we are working to fix the problem   and not on the golf course.  However, the coding wasn t done correctly.The website of Donald Trump, w...</td>\n",
              "      <td>1</td>\n",
              "    </tr>\n",
              "    <tr>\n",
              "      <th>4</th>\n",
              "      <td>Pope Francis Just Called Out Donald Trump During His Christmas SpeechPope Francis used his annual Christmas Day message to rebuke Donald Trump without even mentioning his name. The Pope delivered his message just days after members of the United Nations condemned Trump s move to recognize Jerusalem as the capital of Israel. The Pontiff prayed on Monday for the  peaceful coexistence of two states within mutually agreed and internationally recognized borders. We see Jesus in the children of the Middle East who continue to suffer because of growing tensions between Israelis and Palestinians,  Francis said.  On this festive day, let us ask the Lord for peace for Jerusalem and for all the Holy Land. Let us pray that the will to resume dialogue may prevail between the parties and that a negotiated solution can finally be reached. The Pope went on to plead for acceptance of refugees who have been forced from their homes, and that is an issue Trump continues to fight against. Francis use...</td>\n",
              "      <td>1</td>\n",
              "    </tr>\n",
              "    <tr>\n",
              "      <th>...</th>\n",
              "      <td>...</td>\n",
              "      <td>...</td>\n",
              "    </tr>\n",
              "    <tr>\n",
              "      <th>21412</th>\n",
              "      <td>'Fully committed' NATO backs new U.S. approach on AfghanistanBRUSSELS (Reuters) - NATO allies on Tuesday welcomed President Donald Trump s decision to commit more forces to Afghanistan, as part of a new U.S. strategy he said would require more troops and funding from America s partners. Having run for the White House last year on a pledge to withdraw swiftly from Afghanistan, Trump reversed course on Monday and promised a stepped-up military campaign against  Taliban insurgents, saying:  Our troops will fight to win .  U.S. officials said he had signed off on plans to send about 4,000 more U.S. troops to add to the roughly 8,400 now deployed in Afghanistan. But his speech did not define benchmarks for successfully ending the war that began with the U.S.-led invasion of Afghanistan in 2001, and which he acknowledged had required an   extraordinary sacrifice of blood and treasure .  We will ask our NATO allies and global partners to support our new strategy, with additional troops a...</td>\n",
              "      <td>0</td>\n",
              "    </tr>\n",
              "    <tr>\n",
              "      <th>21413</th>\n",
              "      <td>LexisNexis withdrew two products from Chinese marketLONDON (Reuters) - LexisNexis, a provider of legal, regulatory and business information, said on Tuesday it had withdrawn two products from the Chinese market in March this year after it was asked to remove some content.  The issue of academic freedom in China hit the headlines this week after the leading British academic publisher,  Cambridge University Press, said it had complied with a request to block online access to some scholarly articles in China.  It later reversed its position.   Earlier this year LexisNexis Business Insight Solutions in China was asked to remove some content from its database,  LexisNexis said in a statement.  In March 2017, the company withdrew two products (Nexis and LexisNexis Academic) from the Chinese market.  LexisNexis is owned by information group Relx.</td>\n",
              "      <td>0</td>\n",
              "    </tr>\n",
              "    <tr>\n",
              "      <th>21414</th>\n",
              "      <td>Minsk cultural hub becomes haven from authoritiesMINSK (Reuters) - In the shadow of disused Soviet-era factories in Minsk, a street lined with eclectic bars, art galleries and yoga studios has become a haven from the vigilant eyes of the Belarussian authorities.  This place is like an island,  said Yegor, 21, who works at  popular bar Hooligan.  It s the street of freedom.  The government of President Alexander Lukashenko, who has ruled Belarus for the past 23 years and has boasted that he is  the last and only dictator in Europe  ,has little tolerance for any opposition. A powerful police force and feared state security  keep citizens in check. But police patrols are rare in Oktyabrskaya, partly due to its location on an out-of-the-way peninsula in a bend of the river Svislach. When the first restaurant opened there in 2012, few visitors came but now it ranks among the most fashionable quarters of Minsk.  Such is the growing popularity of that Oktyabrskaya that investors such as ...</td>\n",
              "      <td>0</td>\n",
              "    </tr>\n",
              "    <tr>\n",
              "      <th>21415</th>\n",
              "      <td>Vatican upbeat on possibility of Pope Francis visiting RussiaMOSCOW (Reuters) - Vatican Secretary of State Cardinal Pietro Parolin said on Tuesday that there was  positive momentum  behind the idea of Pope Francis visiting Russia, but suggested there was more work to be done if it were to happen.  Parolin, speaking at a joint news conference in Moscow alongside Russian Foreign Minister Sergei Lavrov, did not give any date for such a possible visit. The Eastern and Western branches of Christianity split apart in 1054. The pope, leader of the world s 1.2 billion Catholics, is seeking to improve ties, and last year in Cuba held what was the first ever meeting between a Roman Catholic pope and a Russian Orthodox patriarch.  Parolin said he had also used his talks in the Russian capital to also raise certain difficulties faced by the Catholic Church in Russia. He said that Moscow and the Vatican disagreed about the plight of Christians in certain parts of the world. He did not elaborat...</td>\n",
              "      <td>0</td>\n",
              "    </tr>\n",
              "    <tr>\n",
              "      <th>21416</th>\n",
              "      <td>Indonesia to buy $1.14 billion worth of Russian jetsJAKARTA (Reuters) - Indonesia will buy 11 Sukhoi fighter jets worth $1.14 billion from Russia in exchange for cash and Indonesian commodities, two cabinet ministers said on Tuesday. The Southeast Asian country has pledged to ship up to $570 million worth of commodities in addition to cash to pay for the Suhkoi SU-35 fighter jets, which are expected to be delivered in stages starting in two years. Indonesian Trade Minister Enggartiasto Lukita said in a joint statement with Defence Minister Ryamizard Ryacudu that details of the type and volume of commodities were  still being negotiated . Previously he had said the exports could include palm oil, tea, and coffee. The deal is expected to be finalised soon between Indonesian state trading company PT Perusahaan Perdangangan Indonesia and Russian state conglomerate Rostec. Russia is currently facing a new round of U.S.-imposed trade sanctions. Meanwhile, Southeast Asia s largest econom...</td>\n",
              "      <td>0</td>\n",
              "    </tr>\n",
              "  </tbody>\n",
              "</table>\n",
              "<p>44898 rows × 2 columns</p>\n",
              "</div>"
            ],
            "text/plain": [
              "                                                                                                                                                                                                                                                                                                                                                                                                                                                                                                                                                                                                                                                                                                                                                                                                                                                                                                                                                                                                                                         text  label\n",
              "0       Donald Trump Sends Out Embarrassing New Year’s Eve Message; This is DisturbingDonald Trump just couldn t wish all Americans a Happy New Year and leave it at that. Instead, he had to give a shout out to his enemies, haters and  the very dishonest fake news media.  The former reality show star had just one job to do and he couldn t do it. As our Country rapidly grows stronger and smarter, I want to wish all of my friends, supporters, enemies, haters, and even the very dishonest Fake News Media, a Happy and Healthy New Year,  President Angry Pants tweeted.  2018 will be a great year for America! As our Country rapidly grows stronger and smarter, I want to wish all of my friends, supporters, enemies, haters, and even the very dishonest Fake News Media, a Happy and Healthy New Year. 2018 will be a great year for America!  Donald J. Trump (@realDonaldTrump) December 31, 2017Trump s tweet went down about as welll as you d expect.What kind of president sends a New Year s greeting like th...      1\n",
              "1       Drunk Bragging Trump Staffer Started Russian Collusion InvestigationHouse Intelligence Committee Chairman Devin Nunes is going to have a bad day. He s been under the assumption, like many of us, that the Christopher Steele-dossier was what prompted the Russia investigation so he s been lashing out at the Department of Justice and the FBI in order to protect Trump. As it happens, the dossier is not what started the investigation, according to documents obtained by the New York Times.Former Trump campaign adviser George Papadopoulos was drunk in a wine bar when he revealed knowledge of Russian opposition research on Hillary Clinton.On top of that, Papadopoulos wasn t just a covfefe boy for Trump, as his administration has alleged. He had a much larger role, but none so damning as being a drunken fool in a wine bar. Coffee boys  don t help to arrange a New York meeting between Trump and President Abdel Fattah el-Sisi of Egypt two months before the election. It was known before that ...      1\n",
              "2       Sheriff David Clarke Becomes An Internet Joke For Threatening To Poke People ‘In The Eye’On Friday, it was revealed that former Milwaukee Sheriff David Clarke, who was being considered for Homeland Security Secretary in Donald Trump s administration, has an email scandal of his own.In January, there was a brief run-in on a plane between Clarke and fellow passenger Dan Black, who he later had detained by the police for no reason whatsoever, except that maybe his feelings were hurt. Clarke messaged the police to stop Black after he deplaned, and now, a search warrant has been executed by the FBI to see the exchanges.Clarke is calling it fake news even though copies of the search warrant are on the Internet. I am UNINTIMIDATED by lib media attempts to smear and discredit me with their FAKE NEWS reports designed to silence me,  the former sheriff tweeted.  I will continue to poke them in the eye with a sharp stick and bitch slap these scum bags til they get it. I have been attacked b...      1\n",
              "3       Trump Is So Obsessed He Even Has Obama’s Name Coded Into His Website (IMAGES)On Christmas day, Donald Trump announced that he would  be back to work  the following day, but he is golfing for the fourth day in a row. The former reality show star blasted former President Barack Obama for playing golf and now Trump is on track to outpace the number of golf games his predecessor played.Updated my tracker of Trump s appearances at Trump properties.71 rounds of golf including today s. At this pace, he ll pass Obama s first-term total by July 24 next year. https://t.co/Fg7VacxRtJ pic.twitter.com/5gEMcjQTbH  Philip Bump (@pbump) December 29, 2017 That makes what a Washington Post reporter discovered on Trump s website really weird, but everything about this administration is bizarre AF. The coding contained a reference to Obama and golf:  Unlike Obama, we are working to fix the problem   and not on the golf course.  However, the coding wasn t done correctly.The website of Donald Trump, w...      1\n",
              "4       Pope Francis Just Called Out Donald Trump During His Christmas SpeechPope Francis used his annual Christmas Day message to rebuke Donald Trump without even mentioning his name. The Pope delivered his message just days after members of the United Nations condemned Trump s move to recognize Jerusalem as the capital of Israel. The Pontiff prayed on Monday for the  peaceful coexistence of two states within mutually agreed and internationally recognized borders. We see Jesus in the children of the Middle East who continue to suffer because of growing tensions between Israelis and Palestinians,  Francis said.  On this festive day, let us ask the Lord for peace for Jerusalem and for all the Holy Land. Let us pray that the will to resume dialogue may prevail between the parties and that a negotiated solution can finally be reached. The Pope went on to plead for acceptance of refugees who have been forced from their homes, and that is an issue Trump continues to fight against. Francis use...      1\n",
              "...                                                                                                                                                                                                                                                                                                                                                                                                                                                                                                                                                                                                                                                                                                                                                                                                                                                                                                                                                                                                                                       ...    ...\n",
              "21412  'Fully committed' NATO backs new U.S. approach on AfghanistanBRUSSELS (Reuters) - NATO allies on Tuesday welcomed President Donald Trump s decision to commit more forces to Afghanistan, as part of a new U.S. strategy he said would require more troops and funding from America s partners. Having run for the White House last year on a pledge to withdraw swiftly from Afghanistan, Trump reversed course on Monday and promised a stepped-up military campaign against  Taliban insurgents, saying:  Our troops will fight to win .  U.S. officials said he had signed off on plans to send about 4,000 more U.S. troops to add to the roughly 8,400 now deployed in Afghanistan. But his speech did not define benchmarks for successfully ending the war that began with the U.S.-led invasion of Afghanistan in 2001, and which he acknowledged had required an   extraordinary sacrifice of blood and treasure .  We will ask our NATO allies and global partners to support our new strategy, with additional troops a...      0\n",
              "21413                                                                                                                                                    LexisNexis withdrew two products from Chinese marketLONDON (Reuters) - LexisNexis, a provider of legal, regulatory and business information, said on Tuesday it had withdrawn two products from the Chinese market in March this year after it was asked to remove some content.  The issue of academic freedom in China hit the headlines this week after the leading British academic publisher,  Cambridge University Press, said it had complied with a request to block online access to some scholarly articles in China.  It later reversed its position.   Earlier this year LexisNexis Business Insight Solutions in China was asked to remove some content from its database,  LexisNexis said in a statement.  In March 2017, the company withdrew two products (Nexis and LexisNexis Academic) from the Chinese market.  LexisNexis is owned by information group Relx.       0\n",
              "21414  Minsk cultural hub becomes haven from authoritiesMINSK (Reuters) - In the shadow of disused Soviet-era factories in Minsk, a street lined with eclectic bars, art galleries and yoga studios has become a haven from the vigilant eyes of the Belarussian authorities.  This place is like an island,  said Yegor, 21, who works at  popular bar Hooligan.  It s the street of freedom.  The government of President Alexander Lukashenko, who has ruled Belarus for the past 23 years and has boasted that he is  the last and only dictator in Europe  ,has little tolerance for any opposition. A powerful police force and feared state security  keep citizens in check. But police patrols are rare in Oktyabrskaya, partly due to its location on an out-of-the-way peninsula in a bend of the river Svislach. When the first restaurant opened there in 2012, few visitors came but now it ranks among the most fashionable quarters of Minsk.  Such is the growing popularity of that Oktyabrskaya that investors such as ...      0\n",
              "21415  Vatican upbeat on possibility of Pope Francis visiting RussiaMOSCOW (Reuters) - Vatican Secretary of State Cardinal Pietro Parolin said on Tuesday that there was  positive momentum  behind the idea of Pope Francis visiting Russia, but suggested there was more work to be done if it were to happen.  Parolin, speaking at a joint news conference in Moscow alongside Russian Foreign Minister Sergei Lavrov, did not give any date for such a possible visit. The Eastern and Western branches of Christianity split apart in 1054. The pope, leader of the world s 1.2 billion Catholics, is seeking to improve ties, and last year in Cuba held what was the first ever meeting between a Roman Catholic pope and a Russian Orthodox patriarch.  Parolin said he had also used his talks in the Russian capital to also raise certain difficulties faced by the Catholic Church in Russia. He said that Moscow and the Vatican disagreed about the plight of Christians in certain parts of the world. He did not elaborat...      0\n",
              "21416  Indonesia to buy $1.14 billion worth of Russian jetsJAKARTA (Reuters) - Indonesia will buy 11 Sukhoi fighter jets worth $1.14 billion from Russia in exchange for cash and Indonesian commodities, two cabinet ministers said on Tuesday. The Southeast Asian country has pledged to ship up to $570 million worth of commodities in addition to cash to pay for the Suhkoi SU-35 fighter jets, which are expected to be delivered in stages starting in two years. Indonesian Trade Minister Enggartiasto Lukita said in a joint statement with Defence Minister Ryamizard Ryacudu that details of the type and volume of commodities were  still being negotiated . Previously he had said the exports could include palm oil, tea, and coffee. The deal is expected to be finalised soon between Indonesian state trading company PT Perusahaan Perdangangan Indonesia and Russian state conglomerate Rostec. Russia is currently facing a new round of U.S.-imposed trade sanctions. Meanwhile, Southeast Asia s largest econom...      0\n",
              "\n",
              "[44898 rows x 2 columns]"
            ]
          },
          "metadata": {},
          "execution_count": 6
        }
      ]
    },
    {
      "cell_type": "markdown",
      "metadata": {
        "id": "jjwWU2ngDJo3"
      },
      "source": [
        "# Cleaning and pre-processing text:"
      ]
    },
    {
      "cell_type": "code",
      "metadata": {
        "colab": {
          "base_uri": "https://localhost:8080/"
        },
        "id": "jMv-tw13_ANF",
        "outputId": "ec9a1e1f-96eb-4cf0-dee0-cbd3c3fb91e6"
      },
      "source": [
        "# Create a new Porter stemmer\n",
        "ps = nltk.stem.PorterStemmer()\n",
        "\n",
        "# Download package with stopwords from natural language toolkit\n",
        "nltk.download('stopwords')\n",
        "\n",
        "# Get stopwords in English language\n",
        "stop_words = nltk.corpus.stopwords.words('english')\n",
        "\n",
        "# Define a function that will process each row and do next pre-process with it:\n",
        "# 1. delete all non-alphabetical symbols\n",
        "# 2. write to lowercase and split row into a list of words\n",
        "# 3. check if word not a stop word\n",
        "# 4. steam a word and concatenate it to newly row  \n",
        "def cleanup(text):\n",
        "    text = re.sub('[^a-zA-Z]',' ',text)\n",
        "    return ' '.join([ps.stem(word) for word in text.lower().split() if word not in stop_words])\n",
        "\n",
        "# By applying function cleanup to each row in column 'text' get a new dataset with processed text od news\n",
        "text = df_all['text'].apply(cleanup)\n",
        "\n",
        "# Preview result\n",
        "text"
      ],
      "execution_count": null,
      "outputs": [
        {
          "output_type": "stream",
          "name": "stdout",
          "text": [
            "[nltk_data] Downloading package stopwords to /root/nltk_data...\n",
            "[nltk_data]   Unzipping corpora/stopwords.zip.\n"
          ]
        },
        {
          "output_type": "execute_result",
          "data": {
            "text/plain": [
              "0        donald trump send embarrass new year eve messag disturbingdonald trump wish american happi new year leav instead give shout enemi hater dishonest fake news media former realiti show star one job countri rapidli grow stronger smarter want wish friend support enemi hater even dishonest fake news media happi healthi new year presid angri pant tweet great year america countri rapidli grow stronger smarter want wish friend support enemi hater even dishonest fake news media happi healthi new year great year america donald j trump realdonaldtrump decemb trump tweet went welll expect kind presid send new year greet like despic petti infantil gibberish trump lack decenc even allow rise gutter long enough wish american citizen happi new year bishop talbert swan talbertswan decemb one like calvin calvinstowel decemb impeach would make great year america also accept regain control congress miranda yaver mirandayav decemb hear talk includ mani peopl hate wonder hate alan sandov alansandov dece...\n",
              "1        drunk brag trump staffer start russian collus investigationhous intellig committe chairman devin nune go bad day assumpt like mani us christoph steel dossier prompt russia investig lash depart justic fbi order protect trump happen dossier start investig accord document obtain new york time former trump campaign advis georg papadopoulo drunk wine bar reveal knowledg russian opposit research hillari clinton top papadopoulo covfef boy trump administr alleg much larger role none damn drunken fool wine bar coffe boy help arrang new york meet trump presid abdel fattah el sisi egypt two month elect known former aid set meet world leader trump team trump ran mere coffe boy may papadopoulo reveal australian diplomat alexand downer russian offici shop around possibl dirt democrat presidenti nomine hillari clinton exactli much mr papadopoulo said night kensington wine room australian alexand downer unclear report state two month later leak democrat email began appear onlin australian offici ...\n",
              "2        sheriff david clark becom internet joke threaten poke peopl eye friday reveal former milwauke sheriff david clark consid homeland secur secretari donald trump administr email scandal januari brief run plane clark fellow passeng dan black later detain polic reason whatsoev except mayb feel hurt clark messag polic stop black deplan search warrant execut fbi see exchang clark call fake news even though copi search warrant internet unintimid lib media attempt smear discredit fake news report design silenc former sheriff tweet continu poke eye sharp stick bitch slap scum bag til get attack better peopl maga unintimid lib media attempt smear discredit fake news report design silenc continu poke eye sharp stick bitch slap scum bag til get attack better peopl maga pic twitter com xtzw pdu b david clark jr sheriffclark decemb stop break news lie lib media make fake news smear antidot go right punch nose make tast blood noth get bulli like lie lib media attent better give tast blood neverba...\n",
              "3        trump obsess even obama name code websit imag christma day donald trump announc would back work follow day golf fourth day row former realiti show star blast former presid barack obama play golf trump track outpac number golf game predecessor play updat tracker trump appear trump properti round golf includ today pace pass obama first term total juli next year http co fg vacxrtj pic twitter com gemcjqtbh philip bump pbump decemb make washington post report discov trump websit realli weird everyth administr bizarr af code contain refer obama golf unlik obama work fix problem golf cours howev code done correctli websit donald trump spent sever day row golf cours code serv follow messag event intern server error http co zrwpymxrcz pic twitter com wiqsqnnzw christoph ingraham cingraham decemb snippet code appear http co dkhw alhb page footer say paid rnc pic twitter com oazdt b christoph ingraham cingraham decemb also http co ayblgmk z other note thread weird code clear would ever actu...\n",
              "4        pope franci call donald trump christma speechpop franci use annual christma day messag rebuk donald trump without even mention name pope deliv messag day member unit nation condemn trump move recogn jerusalem capit israel pontiff pray monday peac coexist two state within mutual agre intern recogn border see jesu children middl east continu suffer grow tension isra palestinian franci said festiv day let us ask lord peac jerusalem holi land let us pray resum dialogu may prevail parti negoti solut final reach pope went plead accept refuge forc home issu trump continu fight franci use jesu place inn analog today wind war blow world outdat model develop continu produc human societ environment declin christma invit us focu sign child recogn face littl children especi like jesu place inn said jesu know well pain welcom hard place lay one head ad may heart close home bethlehem pope said mari joseph immigr struggl find safe place stay bethlehem leav peopl home land franci said comfort easi...\n",
              "                                                                                                                                                                                                                                                                                                                                                                                                                                                                                                                          ...                                                                                                                                                                                                                                                                                                                                                                                                                                                                                                                  \n",
              "21412    fulli commit nato back new u approach afghanistanbrussel reuter nato alli tuesday welcom presid donald trump decis commit forc afghanistan part new u strategi said would requir troop fund america partner run white hous last year pledg withdraw swiftli afghanistan trump revers cours monday promis step militari campaign taliban insurg say troop fight win u offici said sign plan send u troop add roughli deploy afghanistan speech defin benchmark success end war began u led invas afghanistan acknowledg requir extraordinari sacrific blood treasur ask nato alli global partner support new strategi addit troop fund increas line confid trump said comment signal would increas pressur u partner alreadi jolt repeat demand step contribut nato descript allianc obsolet even though sinc take offic said longer case nato secretari gener jen stoltenberg said statement nato remain fulli commit afghanistan look forward discuss way ahead defens secretari jame matti alli intern partner nato troop afghani...\n",
              "21413                                                                                                                                                                                                                                                                                                                                                                                                                                                            lexisnexi withdrew two product chines marketlondon reuter lexisnexi provid legal regulatori busi inform said tuesday withdrawn two product chines market march year ask remov content issu academ freedom china hit headlin week lead british academ publish cambridg univers press said compli request block onlin access scholarli articl china later revers posit earlier year lexisnexi busi insight solut china ask remov content databas lexisnexi said statement march compani withdrew two product nexi lexisnexi academ chines market lexisnexi own inform group relx\n",
              "21414    minsk cultur hub becom authoritiesminsk reuter shadow disus soviet era factori minsk street line eclect bar art galleri yoga studio becom vigil eye belarussian author place like island said yegor work popular bar hooligan street freedom govern presid alexand lukashenko rule belaru past year boast last dictat europ littl toler opposit power polic forc fear state secur keep citizen check polic patrol rare oktyabrskaya partli due locat way peninsula bend river svislach first restaur open visitor came rank among fashion quarter minsk grow popular oktyabrskaya investor belgazprombank subsidiari state own russian lender gazprombank big plan district earlier year bank purchas part factori intend turn galleri restaur theater complex manufactur sector entir abandon oktyabrskaya one machin make factori name octob revolut mzor still oper financi difficulti prompt state own mzor leas sell facil oktyabrskaya develop firm still maintain product reduc workforc mikhail work factori year said appr...\n",
              "21415                                                                                                                                                                                      vatican upbeat possibl pope franci visit russiamoscow reuter vatican secretari state cardin pietro parolin said tuesday posit momentum behind idea pope franci visit russia suggest work done happen parolin speak joint news confer moscow alongsid russian foreign minist sergei lavrov give date possibl visit eastern western branch christian split apart pope leader world billion cathol seek improv tie last year cuba held first ever meet roman cathol pope russian orthodox patriarch parolin said also use talk russian capit also rais certain difficulti face cathol church russia said moscow vatican disagre plight christian certain part world elabor parolin due later tuesday meet patriarch kiril head russian orthodox church said also believ russia could play import role came help solv crisi venezuela close relat caraca\n",
              "21416                                           indonesia buy billion worth russian jetsjakarta reuter indonesia buy sukhoi fighter jet worth billion russia exchang cash indonesian commod two cabinet minist said tuesday southeast asian countri pledg ship million worth commod addit cash pay suhkoi su fighter jet expect deliv stage start two year indonesian trade minist enggartiasto lukita said joint statement defenc minist ryamizard ryacudu detail type volum commod still negoti previous said export could includ palm oil tea coffe deal expect finalis soon indonesian state trade compani pt perusahaan perdangangan indonesia russian state conglomer rostec russia current face new round u impos trade sanction meanwhil southeast asia largest economi tri promot palm oil product amid threat cut consumpt european union countri indonesia also tri modern age air forc string militari aviat accid indonesia million trade surplu russia want expand bilater cooper tourism educ energi technolog aviat among other\n",
              "Name: text, Length: 44898, dtype: object"
            ]
          },
          "metadata": {},
          "execution_count": 7
        }
      ]
    },
    {
      "cell_type": "markdown",
      "metadata": {
        "id": "qCxLBSWxk0ZL"
      },
      "source": [
        "# Text vectorization by using Bag-of-words:"
      ]
    },
    {
      "cell_type": "code",
      "metadata": {
        "id": "9a9BfjEhRYvG"
      },
      "source": [
        "# Import needed classes from sklearn library \n",
        "from sklearn.feature_extraction.text import CountVectorizer\n",
        "from sklearn.model_selection import train_test_split\n",
        "from sklearn.metrics import confusion_matrix, classification_report\n",
        "from sklearn.metrics import accuracy_score"
      ],
      "execution_count": null,
      "outputs": []
    },
    {
      "cell_type": "code",
      "metadata": {
        "colab": {
          "base_uri": "https://localhost:8080/"
        },
        "id": "J_u498b1TNpS",
        "outputId": "d61bf2e6-85b0-4514-96e1-f4bf4ab57480"
      },
      "source": [
        "# Convert a text to a matrix of token counts\n",
        "\n",
        "vectorizer = CountVectorizer()\n",
        "\n",
        "#Learn the vocabulary dictionary and return document-term matrix\n",
        "text_transformed = vectorizer.fit_transform(text.values)\n",
        "\n",
        "# Classification labels\n",
        "labels = df_all['label']\n",
        "\n",
        "# Devide data into testing and training samples, let's take 20% for testing\n",
        "xtrain, xtest, ytrain, ytest = train_test_split(text_transformed,labels,test_size=0.2,random_state=34)\n",
        "print('\\nTotal number of samples in the Train Dataset :',xtrain.shape[0])\n",
        "print('Total number of samples in the Test Dataset :',xtest.shape[0])"
      ],
      "execution_count": null,
      "outputs": [
        {
          "output_type": "stream",
          "name": "stdout",
          "text": [
            "\n",
            "Total number of samples in the Train Dataset : 35918\n",
            "Total number of samples in the Test Dataset : 8980\n"
          ]
        }
      ]
    },
    {
      "cell_type": "markdown",
      "metadata": {
        "id": "7FsAo17jI8Oo"
      },
      "source": [
        "#Naive Bayes classifier\n",
        "Naive Bayes model is based on Bayes’s Theorem, which helps us compute the conditional probabilities of the occurrence of two events, based on the probabilities of the occurrence of each individual event. So we’re calculating the probability of each tag for a given text, and then outputting the tag with the highest probability."
      ]
    },
    {
      "cell_type": "code",
      "metadata": {
        "id": "sBOJwLrJjfPr"
      },
      "source": [
        "from sklearn.naive_bayes import BernoulliNB\n",
        "\n",
        "# Fit Naive Bayes classifier according to xtrain and ytrain\n",
        "bnb_model = BernoulliNB().fit(xtrain,ytrain)\n",
        "\n",
        "# Perform classification on an array of test vectors Xtest\n",
        "bnb_prediction = bnb_model.predict(xtest)"
      ],
      "execution_count": null,
      "outputs": []
    },
    {
      "cell_type": "markdown",
      "metadata": {
        "id": "Fy9rw8eWbyLj"
      },
      "source": [
        "# XGBoost (Extreme Gradient Boosting)\n",
        "XGBoost represents the model of decision tree ensembles, which consists of a set of classification and regression trees."
      ]
    },
    {
      "cell_type": "code",
      "metadata": {
        "id": "5wRtrLFPb-NW"
      },
      "source": [
        "import xgboost as xgb\n",
        "\n",
        "# Build data matrix used in XGBoost\n",
        "xgb_train = xgb.DMatrix(xtrain, ytrain)\n",
        "xgb_test = xgb.DMatrix(xtest)\n",
        "\n",
        "# Set Booster parameters\n",
        "# Objective 'multi:softmax' seems to be the most sutable for this classification task,\n",
        "# as news can be classified oly into 2 types, set num_class equal 2 \n",
        "# As the binary classification on big data set doesn't seem to be a problem for XGBoost model,\n",
        "# Regarding max depth parameter, don't think that for task of binary classification\n",
        "# algorithm must be too complex, so I set depth to 5\n",
        "param = {\n",
        "          'max_depth': 5,\n",
        "          'objective' : 'multi:softmax',\n",
        "          'num_class' : 2\n",
        "        }\n",
        "# Set number of boosting iterations\n",
        "epochs = 10 \n",
        "\n",
        "# Train the model with given parameters\n",
        "xgb_model = xgb.train(param, xgb_train, epochs)\n",
        "\n",
        "# Perform classification on test dmatrix xgb_test\n",
        "xgb_prediction = xgb_model.predict(xgb_test)"
      ],
      "execution_count": null,
      "outputs": []
    },
    {
      "cell_type": "markdown",
      "metadata": {
        "id": "WkNO8XnzEnx9"
      },
      "source": [
        "# Support vector machines\n",
        "SVM is supervised learning model which algorithm constructs a hyper-plane or set of hyper-planes in a high or infinite dimensional space, which can be used for classification tasks."
      ]
    },
    {
      "cell_type": "code",
      "metadata": {
        "id": "p_avUkyZpyU2"
      },
      "source": [
        "from sklearn import svm\n",
        "\n",
        "# For binary classification task, the default parameters are enough\n",
        "# only kernel must be specified, I think, again for such task just linearization \n",
        "# should be enough \n",
        "svm_model = svm.SVC(kernel='linear')\n",
        "\n",
        "# Fit the SVM model according to the given training data\n",
        "svm_model.fit(xtrain,ytrain)\n",
        "\n",
        "# Perform classification on samples in test dataset\n",
        "svm_prediction = svm_model.predict(xtest)"
      ],
      "execution_count": null,
      "outputs": []
    },
    {
      "cell_type": "code",
      "metadata": {
        "colab": {
          "base_uri": "https://localhost:8080/",
          "height": 1000
        },
        "id": "KVNkPArCJ_6S",
        "outputId": "f5e367fa-b1c9-4a1d-f66b-5aee63c0e41d"
      },
      "source": [
        "from sklearn.metrics import confusion_matrix, classification_report,ConfusionMatrixDisplay\n",
        "from sklearn.metrics import accuracy_score\n",
        "import matplotlib.pyplot as plt\n",
        "\n",
        "# Print out for each model scores and dispay confusion matrix\n",
        "def printInfo(model_prediction):\n",
        "  print('\\033[4m' +'\\nAccuracy score :'+ '\\033[0m' ,accuracy_score(ytest,model_prediction))\n",
        "  print('\\033[4m'+'Classification report:\\n\\n'+ '\\033[0m',classification_report(model_prediction,ytest))\n",
        "  print('\\nConfusion matrix:')\n",
        "  cm = confusion_matrix(ytest, model_prediction, labels=[0, 1])\n",
        "  disp = ConfusionMatrixDisplay(confusion_matrix=cm,display_labels=[0, 1])\n",
        "  disp.plot()\n",
        "  plt.show()\n",
        "\n",
        "print('\\033[1m' + '\\n\\nNaive Bayes model' + '\\033[0m')\n",
        "printInfo(bnb_prediction)\n",
        "\n",
        "print('\\033[1m' +'\\n\\nXGBoost'+'\\033[0m')\n",
        "printInfo(xgb_prediction)\n",
        "\n",
        "print('\\033[1m' +'\\n\\nSupport vector machines'+'\\033[0m')\n",
        "printInfo(svm_prediction)"
      ],
      "execution_count": null,
      "outputs": [
        {
          "output_type": "stream",
          "name": "stdout",
          "text": [
            "\u001b[1m\n",
            "\n",
            "Naive Bayes model\u001b[0m\n",
            "\u001b[4m\n",
            "Accuracy score :\u001b[0m 0.9678173719376392\n",
            "\u001b[4mClassification report:\n",
            "\n",
            "\u001b[0m               precision    recall  f1-score   support\n",
            "\n",
            "           0       0.97      0.96      0.97      4270\n",
            "           1       0.96      0.97      0.97      4710\n",
            "\n",
            "    accuracy                           0.97      8980\n",
            "   macro avg       0.97      0.97      0.97      8980\n",
            "weighted avg       0.97      0.97      0.97      8980\n",
            "\n",
            "\n",
            "Confusion matrix:\n"
          ]
        },
        {
          "output_type": "display_data",
          "data": {
            "image/png": "[encoded data removed]",
            "text/plain": [
              "<Figure size 432x288 with 2 Axes>"
            ]
          },
          "metadata": {
            "needs_background": "light"
          }
        },
        {
          "output_type": "stream",
          "name": "stdout",
          "text": [
            "\u001b[1m\n",
            "\n",
            "XGBoost\u001b[0m\n",
            "\u001b[4m\n",
            "Accuracy score :\u001b[0m 0.9975501113585746\n",
            "\u001b[4mClassification report:\n",
            "\n",
            "\u001b[0m               precision    recall  f1-score   support\n",
            "\n",
            "         0.0       1.00      1.00      1.00      4225\n",
            "         1.0       1.00      1.00      1.00      4755\n",
            "\n",
            "    accuracy                           1.00      8980\n",
            "   macro avg       1.00      1.00      1.00      8980\n",
            "weighted avg       1.00      1.00      1.00      8980\n",
            "\n",
            "\n",
            "Confusion matrix:\n"
          ]
        },
        {
          "output_type": "display_data",
          "data": {
            "image/png": "[encoded data removed]",
            "text/plain": [
              "<Figure size 432x288 with 2 Axes>"
            ]
          },
          "metadata": {
            "needs_background": "light"
          }
        },
        {
          "output_type": "stream",
          "name": "stdout",
          "text": [
            "\u001b[1m\n",
            "\n",
            "Support vector machines\u001b[0m\n",
            "\u001b[4m\n",
            "Accuracy score :\u001b[0m 0.9946547884187082\n",
            "\u001b[4mClassification report:\n",
            "\n",
            "\u001b[0m               precision    recall  f1-score   support\n",
            "\n",
            "           0       0.99      1.00      0.99      4213\n",
            "           1       1.00      0.99      0.99      4767\n",
            "\n",
            "    accuracy                           0.99      8980\n",
            "   macro avg       0.99      0.99      0.99      8980\n",
            "weighted avg       0.99      0.99      0.99      8980\n",
            "\n",
            "\n",
            "Confusion matrix:\n"
          ]
        },
        {
          "output_type": "display_data",
          "data": {
            "image/png": "[encoded data removed]",
            "text/plain": [
              "<Figure size 432x288 with 2 Axes>"
            ]
          },
          "metadata": {
            "needs_background": "light"
          }
        }
      ]
    },
    {
      "cell_type": "markdown",
      "metadata": {
        "id": "gXc1S8hlb2S7"
      },
      "source": [
        "#Summary:\n",
        "\n",
        "Binary text classification is pretty old task in ML and AI world and has been solved already by many models, so I didn't want to complicate the solution and decided to use 'classical' models for such task: Naive Bayes and Support Vector Machines. As third model I added 'almighty' XGBoost model, as this model usually shows very high scores, was interesting to see how much it will win over the classic and older models. I considered to choose some model from deep learning, but in the end I decided to give up the idea as the input dataset is quite voluminous and would require a lot of resources and time to set up all parameters for better preformance (even with resampling). \n",
        "\n",
        "So after training and prediction phases for all three models, unsurprisingly XGBoost showed best metrics. To be honest, the metrics are too high, probably I overfit the model. And if I had more time, I would do more experiments like taking less training data (now it's 80% of dataset) and would try to test models with the data that wasn't in the input dataset (so to say, 'uknown' for models). Another option is to manipulate with parameters for XGBoost and SVM but, again, for binary classification task, I would assume, there are not so many options. I think, if it was a productive task, I would stick to SVM or XGboost as they have more flexibility in compare to Naive Bayes."
      ]
    }
  ]
}